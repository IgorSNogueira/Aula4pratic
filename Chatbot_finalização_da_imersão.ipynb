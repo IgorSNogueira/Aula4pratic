{
  "nbformat": 4,
  "nbformat_minor": 0,
  "metadata": {
    "colab": {
      "provenance": [],
      "authorship_tag": "ABX9TyPPvGrL4gIIiB7njGSZVWX1",
      "include_colab_link": true
    },
    "kernelspec": {
      "name": "python3",
      "display_name": "Python 3"
    },
    "language_info": {
      "name": "python"
    }
  },
  "cells": [
    {
      "cell_type": "markdown",
      "metadata": {
        "id": "view-in-github",
        "colab_type": "text"
      },
      "source": [
        "<a href=\"https://colab.research.google.com/github/IgorSNogueira/Aula4pratic/blob/main/Chatbot_finaliza%C3%A7%C3%A3o_da_imers%C3%A3o.ipynb\" target=\"_parent\"><img src=\"https://colab.research.google.com/assets/colab-badge.svg\" alt=\"Open In Colab\"/></a>"
      ]
    },
    {
      "cell_type": "code",
      "execution_count": null,
      "metadata": {
        "id": "D_3Vk-Gj0xhg"
      },
      "outputs": [],
      "source": [
        "!pip install -q -U google-generativeai\n",
        "!pip install ipywidgets"
      ]
    },
    {
      "cell_type": "code",
      "source": [
        "import google.generativeai as genai\n",
        "from google.colab import userdata\n",
        "import ipywidgets as widgets\n",
        "from IPython.display import display\n",
        "from google.colab import output\n",
        "output.enable_custom_widget_manager()\n",
        "\n",
        "# Configurações da API e do modelo\n",
        "google_api_key = userdata.get('SECRET_KEY')\n",
        "genai.configure(api_key=google_api_key)\n",
        "\n",
        "configuracao_generativa = {\n",
        "    \"candidate_count\": 1,\n",
        "    \"temperature\": 0.7\n",
        "}\n",
        "\n",
        "# Níveis de segurança\n",
        "nivel1 = {\n",
        "    \"HARASSMENT\": \"BLOCK_ONLY_HIGH\",\n",
        "    \"HATE\": \"BLOCK_ONLY_HIGH\",\n",
        "    \"SEXUAL\": \"BLOCK_ONLY_HIGH\",\n",
        "    \"DANGEROUS\": \"BLOCK_ONLY_HIGH\"\n",
        "}\n",
        "nivel2 = {\n",
        "    \"HARASSMENT\": \"BLOCK_MEDIUM_AND_ABOVE\",\n",
        "    \"HATE\": \"BLOCK_MEDIUM_AND_ABOVE\",\n",
        "    \"SEXUAL\": \"BLOCK_MEDIUM_AND_ABOVE\",\n",
        "    \"DANGEROUS\": \"BLOCK_MEDIUM_AND_ABOVE\"\n",
        "}\n",
        "nivel3 = {\n",
        "    \"HARASSMENT\": \"BLOCK_LOW_AND_ABOVE\",\n",
        "    \"HATE\": \"BLOCK_LOW_AND_ABOVE\",\n",
        "    \"SEXUAL\": \"BLOCK_LOW_AND_ABOVE\",\n",
        "    \"DANGEROUS\": \"BLOCK_LOW_AND_ABOVE\"\n",
        "}\n",
        "configuracao_seguranca = nivel2\n",
        "\n",
        "# Inicializando o modelo\n",
        "modelo = genai.GenerativeModel(model_name='gemini-1.0-pro', generation_config=configuracao_generativa, safety_settings=configuracao_seguranca)\n",
        "chat = modelo.start_chat(history=[])\n",
        "bot_text = 'Em que posso ajudar?'\n",
        "\n",
        "\n",
        "# Elementos da interface gráfica\n",
        "titulo = widgets.HTML(value=\"<h1>ChatBot Imersão Alura</h1>\")\n",
        "output_bot = widgets.Label(value=bot_text)\n",
        "input_usuario = widgets.Text(placeholder='Digite sua mensagem aqui...')\n",
        "botao_enviar = widgets.Button(description=\"Enviar\")\n",
        "\n",
        "# Layout da interface\n",
        "vbox = widgets.VBox([titulo, output_bot, input_usuario, botao_enviar, output_resposta])\n",
        "display(vbox)\n",
        "\n",
        "# Função para lidar com o evento de clique no botão \"Enviar\"\n",
        "def on_button_clicked(b):\n",
        "  prompt = input_usuario.value\n",
        "  print('---Pensando---')\n",
        "  response = chat.send_message(prompt)\n",
        "  print(f'---Resposta---\\n{response.text}')\n",
        "  resposta = response.text\n",
        "\n",
        "# Atribuindo a função ao evento de clique do botão\n",
        "botao_enviar.on_click(on_button_clicked)"
      ],
      "metadata": {
        "id": "xPPicqVC1IuV"
      },
      "execution_count": null,
      "outputs": []
    }
  ]
}